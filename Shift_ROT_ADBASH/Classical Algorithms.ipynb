{
 "cells": [
  {
   "cell_type": "markdown",
   "metadata": {},
   "source": [
    "# Name: Muhammad Rafiq\n",
    "# Seat No: B17101061\n",
    "# Course: Network Security & Cryptography (NS'21 Lab)\n",
    "# Assignment : Assignment # 1\n",
    "# Section: A                       \n"
   ]
  },
  {
   "cell_type": "markdown",
   "metadata": {},
   "source": [
    "# Modulus Algorithm"
   ]
  },
  {
   "cell_type": "code",
   "execution_count": 1,
   "metadata": {},
   "outputs": [],
   "source": [
    "def modulo(a, m)->int:\n",
    "    R = abs(a) % m \n",
    "    if a>= 0:\n",
    "        R =R\n",
    "    elif a < 0 and R != 0:\n",
    "        R = m - R\n",
    "    elif a < 0 and R == 0:\n",
    "        R = 0\n",
    "    return R"
   ]
  },
  {
   "cell_type": "markdown",
   "metadata": {},
   "source": [
    "# 1- Write a program to encrypt and decrypt the communication or message between the end-users using Shift, Atbash and Rot13 cipher techniques."
   ]
  },
  {
   "cell_type": "markdown",
   "metadata": {},
   "source": [
    "# Shift (Mono Alphabetical Techniqueus)"
   ]
  },
  {
   "cell_type": "code",
   "execution_count": 6,
   "metadata": {},
   "outputs": [],
   "source": [
    "''' A = 0 ... Z = 25'''\n",
    "def my_encrypt(my_string,K,m) -> str:\n",
    "    enc_string = \"\"\n",
    "    my_string = my_string.upper()\n",
    "    for character in my_string:\n",
    "        enc_character = modulo((ord(character)-65 + K), m)\n",
    "        enc_string += chr(enc_character+65)\n",
    "    return enc_string\n",
    "\n",
    "def my_decrypt(my_string,K,m)->str:\n",
    "    dec_string = \"\"\n",
    "    for character in my_string:\n",
    "        dec_character = modulo((ord(character) - 65 - K), m)\n",
    "        dec_string += chr(dec_character + 65)\n",
    "    return dec_string\n",
    "def shift_cipher(choice):        \n",
    "    if choice == 'e':\n",
    "        my_input = input(\"Enter the text to be encrypted: \")\n",
    "        K = int(input(\"Enter the key in an integer: \"))\n",
    "        enc_string = my_encrypt(my_input.replace(\" \", \"\").upper(),K % 26,26)   \n",
    "        print(\"Encrypted String is: \" + enc_string)\n",
    "    elif choice == 'd':\n",
    "        key_choice = input(\"print y if key is known otherwise some other character:\")\n",
    "        enc_string = input(\"Enter the text to be decrypted: \")\n",
    "        if key_choice == \"y\":\n",
    "            K = int(input(\"Enter the key in an integer: \"))\n",
    "            my_string = my_decrypt(enc_string.replace(\" \", \"\").upper(), K % 26,26)\n",
    "            print(\"Original String after decryption is: \" + my_string)\n",
    "        else:\n",
    "            word = {}\n",
    "            for i in enc_string.replace(\" \", \"\").upper():\n",
    "                if i in word.keys():\n",
    "                    word[i] += 1\n",
    "                else:\n",
    "                    word[i] = 1\n",
    "            dic = {k: v for k, v in sorted(word.items(), key=lambda item: item[1], reverse=True)}\n",
    "            l = list(dic.keys())\n",
    "            for i in \"AEIOU\":\n",
    "                my_string = my_decrypt(enc_string.replace(\" \", \"\").upper(), abs(ord(i)-ord(l[0])) ,26)\n",
    "                print(\"Original String after decryption is: \" + my_string)\n",
    "    else:\n",
    "        my_input = input(\"Enter the text to be encrypted: \")\n",
    "        K = int(input(\"Enter the key in an integer: \"))\n",
    "        enc_string = my_encrypt(my_input.replace(\" \", \"\").upper(),K % 26,26)\n",
    "        print(\"Encrypted String is: \" + enc_string)\n",
    "        my_string = my_decrypt(enc_string, K % 26,26)\n",
    "        print(\"Original String after decryption is: \" + my_string)\n"
   ]
  },
  {
   "cell_type": "markdown",
   "metadata": {},
   "source": [
    "# ROT 13"
   ]
  },
  {
   "cell_type": "code",
   "execution_count": 10,
   "metadata": {},
   "outputs": [],
   "source": [
    "''' A = 0 ... Z = 25'''\n",
    "'''But Key would always be 13 in  this algorithm'''\n",
    "def my_rot_encrypt(my_string,m) -> str:\n",
    "    enc_string = \"\"\n",
    "    my_string = my_string.upper()\n",
    "    for character in my_string:\n",
    "        enc_character = modulo((ord(character)-65 + 13), m)\n",
    "        enc_string += chr(enc_character+65)\n",
    "    return enc_string\n",
    "\n",
    "def my_rot_decrypt(my_string,m)->str:\n",
    "    dec_string = \"\"\n",
    "    my_string = my_string.upper()\n",
    "    for character in my_string:\n",
    "        dec_character = modulo((ord(character) - 65 - 13), m)\n",
    "        dec_string += chr(dec_character + 65)\n",
    "    return dec_string\n",
    "def rot13_cipher(choice):\n",
    "    if choice == 'e':\n",
    "        my_input = input(\"Enter the text to be encrypted: \")\n",
    "        enc_string = my_encrypt(my_input.replace(\" \", \"\").upper(),26)\n",
    "    elif choice == 'd':\n",
    "        enc_string = input(\"Enter the text to be decrypted: \")\n",
    "        my_string = my_rot_decrypt(enc_string.replace(\" \", \"\").upper(),26)\n",
    "        print(\"Original String after decryption is: \" + my_string)\n",
    "    else:\n",
    "        my_input = input(\"Enter the text to be encrypted: \")\n",
    "        enc_string = my_rot_encrypt(my_input.replace(\" \", \"\").upper(),26)\n",
    "        print(\"Encrypted String is: \" + enc_string)\n",
    "        my_string = my_decrypt(enc_string,26)\n",
    "        print(\"Original String after decryption is: \" + my_string)\n"
   ]
  },
  {
   "cell_type": "markdown",
   "metadata": {},
   "source": [
    "# ATBASH"
   ]
  },
  {
   "cell_type": "code",
   "execution_count": 4,
   "metadata": {},
   "outputs": [],
   "source": [
    "def ATBASH_encryption(my_string,m)->str:\n",
    "    my_string = my_string.upper()\n",
    "    enc_string = \"\"\n",
    "    for character in my_string:\n",
    "        enc_character = modulo(-(ord(character) - 65 + 1), m)\n",
    "        enc_string += chr(enc_character + 65)\n",
    "    return enc_string\n",
    "def ATBASH_cipher():\n",
    "    input_string = input(\"Enter String tp be encrypted using ATBASH Algorithm: \")\n",
    "    enc_string = ATBASH_encryption(input_string, 26)\n",
    "    print(enc_string)\n",
    "    print(ATBASH_encryption(enc_string, 26))"
   ]
  },
  {
   "cell_type": "markdown",
   "metadata": {},
   "source": [
    "# 2- Kindly decode the text \"yfnzjpflivogvizvetvnzkyjfcmzexwzijktzgyvikvok\" using your shift cipher program.\n"
   ]
  },
  {
   "cell_type": "code",
   "execution_count": 7,
   "metadata": {},
   "outputs": [
    {
     "name": "stdout",
     "output_type": "stream",
     "text": [
      "print y if key is known otherwise some other character:n\n",
      "Enter the text to be decrypted: yfnzjpflivogvizvetvnzkyjfcmzexwzijktzgyvikvok\n",
      "Original String after decryption is: ZGOAKQGMJWPHWJAWFUWOALZKGDNAFYXAJKLUAHZWJLWPL\n",
      "Original String after decryption is: DKSEOUKQNATLANEAJYASEPDOKHREJCBENOPYELDANPATP\n",
      "Original String after decryption is: HOWISYOUREXPERIENCEWITHSOLVINGFIRSTCIPHERTEXT\n",
      "Original String after decryption is: NUCOYEUAXKDVKXOKTIKCOZNYURBOTMLOXYZIOVNKXZKDZ\n",
      "Original String after decryption is: TAIUEKAGDQJBQDUQZOQIUFTEAXHUZSRUDEFOUBTQDFQJF\n"
     ]
    }
   ],
   "source": [
    "shift_cipher(\"d\")    #d for decryption only"
   ]
  },
  {
   "cell_type": "markdown",
   "metadata": {},
   "source": [
    "# 3- Kindly decode the text \"guvf vf gbb rnfl gb whqtr\" using ROT13"
   ]
  },
  {
   "cell_type": "code",
   "execution_count": 11,
   "metadata": {},
   "outputs": [
    {
     "name": "stdout",
     "output_type": "stream",
     "text": [
      "Enter the text to be decrypted: guvf vf gbb rnfl gb whqtr\n",
      "Original String after decryption is: THISISTOOEASYTOJUDGE\n"
     ]
    }
   ],
   "source": [
    "rot13_cipher(\"d\")    #d for decryption only"
   ]
  },
  {
   "cell_type": "markdown",
   "metadata": {},
   "source": [
    "# 4- Kindly Encrypt the text \"Assignments are too much to solve in a week\", using key 917."
   ]
  },
  {
   "cell_type": "code",
   "execution_count": 14,
   "metadata": {},
   "outputs": [
    {
     "name": "stdout",
     "output_type": "stream",
     "text": [
      "Enter the text to be encrypted: Assignments are too much to solve in a week\n",
      "Enter the key in an integer: 917\n",
      "Encrypted String is: HZZPNUTLUAZHYLAVVTBJOAVZVSCLPUHDLLR\n"
     ]
    }
   ],
   "source": [
    "shift_cipher(\"e\")    #e for encryption only"
   ]
  }
 ],
 "metadata": {
  "kernelspec": {
   "display_name": "Python 3",
   "language": "python",
   "name": "python3"
  },
  "language_info": {
   "codemirror_mode": {
    "name": "ipython",
    "version": 3
   },
   "file_extension": ".py",
   "mimetype": "text/x-python",
   "name": "python",
   "nbconvert_exporter": "python",
   "pygments_lexer": "ipython3",
   "version": "3.7.3"
  }
 },
 "nbformat": 4,
 "nbformat_minor": 2
}
