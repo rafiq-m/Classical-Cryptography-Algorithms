{
 "cells": [
  {
   "cell_type": "markdown",
   "metadata": {},
   "source": [
    "# Name: Muhammad Rafiq\n",
    "# Seat No: B17101061\n",
    "# Course: Network Security & Cryptography (NS'21 Lab)\n",
    "# Assignment : Assignment # 5\n",
    "# Section: A                       \n"
   ]
  },
  {
   "cell_type": "code",
   "execution_count": 131,
   "metadata": {},
   "outputs": [],
   "source": [
    "import numpy as np\n",
    "class Hill_Cipher:\n",
    "    \n",
    "    def __find_a_inverse(self, a):\n",
    "        a_list = [1,3,5,7,9,11,15,17,19,21,23,25]\n",
    "        for i in a_list:\n",
    "            if modulo((i*a), 26) == 1:\n",
    "                return i\n",
    "\n",
    "    def hill_decrypt(self, message, key):\n",
    "        print(\"The Message To be Decrypted: \")\n",
    "        print(message)\n",
    "        det = np.linalg.det(key)\n",
    "        key = [[key[1][1], -key[0][1]], [-key[1][0], key[0][0]]]\n",
    "        key = np.array(key,dtype = 'int')\n",
    "        det = int(det)\n",
    "        if det < 0:\n",
    "            det = 26 +  det\n",
    "        det = find_a_inverse(det)\n",
    "        key = (det * key)  % 26\n",
    "        arr = np.array(list(message)) if len(message) %2 == 0 else np.array(list(message + 'X'))\n",
    "        final_ans = \"\"\n",
    "        for i in range(0,len(arr)-1,2):\n",
    "            ans = np.dot(key, np.array([ord(arr[i])-65, ord(arr[i+1])-65]))\n",
    "            ans = ans % 26\n",
    "            final_ans += chr(ans[0]+65) + chr(ans[1] + 65)\n",
    "        print(\"\\n\\n\")\n",
    "        print(\"The Plain Text is: \")\n",
    "        print(final_ans)\n",
    "\n",
    "    def hill_encrypt(self, message, key):\n",
    "        message = message.upper().replace(\" \",\"\")\n",
    "        print(\"The Message To be Encrypted: \")\n",
    "        print(message)\n",
    "        key = np.array(key)\n",
    "        key = key % 26\n",
    "        key = np.where(key > 0 , key, 26 - key)\n",
    "        arr = np.array(list(message)) if len(message) %2 == 0 else np.array(list(message + 'X'))\n",
    "        final_ans = str()\n",
    "        for i in range(0,len(arr)-1,2):\n",
    "            ans = np.dot(key, np.array([ord(arr[i])-65, ord(arr[i+1])-65]))\n",
    "            #print(key, \"\\t\",[arr[i], arr[i + 1]],\"\\t\", [ord(arr[i])-65, ord(arr[i+1])-65], \"\\t\", ans \n",
    "                    #,\"\\t\",ans %26,\"\\t\",chr(ans[0]%26+ 65) + chr(ans[1]%26 + 65))\n",
    "            ans = ans % 26\n",
    "            final_ans += chr(ans[0]+ 65) + chr(ans[1] + 65)\n",
    "        print(\"\\n\\n\")\n",
    "        print(\"The Cipher Text is: \")\n",
    "        print(final_ans)\n"
   ]
  },
  {
   "cell_type": "markdown",
   "metadata": {},
   "source": [
    "## 1-  Encrypt the message \"either you value the things or you lost value\" using Hill cipher\n",
    "\n",
    "## Key= [18    9 ]\n",
    "##           [ 27  36]"
   ]
  },
  {
   "cell_type": "code",
   "execution_count": 132,
   "metadata": {},
   "outputs": [],
   "source": [
    "hill = Hill_Cipher()"
   ]
  },
  {
   "cell_type": "code",
   "execution_count": 133,
   "metadata": {},
   "outputs": [
    {
     "name": "stdout",
     "output_type": "stream",
     "text": [
      "The Message To be Encrypted: \n",
      "EITHERYOUVALUETHETHINGSORYOULOSTVALUE\n",
      "\n",
      "\n",
      "\n",
      "The Cipher Text is: \n",
      "OGPLRSMIDWVGGIPLJMQJCVICCXQGMVBAOVODTA\n"
     ]
    }
   ],
   "source": [
    "hill.hill_encrypt(\"either you value the things or you lost value\", [[18,9],[27,36]])"
   ]
  },
  {
   "cell_type": "markdown",
   "metadata": {},
   "source": [
    "## 2-Decrypt the message \"APADJTFWLFJ\"\n",
    "\n",
    "## Key= [7      8]\n",
    "##         [ 11  11]"
   ]
  },
  {
   "cell_type": "code",
   "execution_count": 134,
   "metadata": {},
   "outputs": [
    {
     "name": "stdout",
     "output_type": "stream",
     "text": [
      "The Message To be Decrypted: \n",
      "APADJTFWLFJ\n",
      "\n",
      "\n",
      "\n",
      "The Plain Text is: \n",
      "SHORTELRVWDS\n"
     ]
    }
   ],
   "source": [
    "hill.hill_decrypt(\"APADJTFWLFJ\",[[7,8],[11,11]])"
   ]
  }
 ],
 "metadata": {
  "kernelspec": {
   "display_name": "Python 3",
   "language": "python",
   "name": "python3"
  },
  "language_info": {
   "codemirror_mode": {
    "name": "ipython",
    "version": 3
   },
   "file_extension": ".py",
   "mimetype": "text/x-python",
   "name": "python",
   "nbconvert_exporter": "python",
   "pygments_lexer": "ipython3",
   "version": "3.7.3"
  }
 },
 "nbformat": 4,
 "nbformat_minor": 2
}
