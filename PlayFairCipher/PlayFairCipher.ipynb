{
 "cells": [
  {
   "cell_type": "markdown",
   "metadata": {},
   "source": [
    "# Name: Muhammad Rafiq\n",
    "# Seat No: B17101061\n",
    "# Course: Network Security & Cryptography (NS'21 Lab)\n",
    "# Assignment : Assignment # 6\n",
    "# Section: A                       \n"
   ]
  },
  {
   "cell_type": "markdown",
   "metadata": {},
   "source": [
    "# Task 1: Write a program for Play Fiar Cipher that can encrypt and decrypt text it.."
   ]
  },
  {
   "cell_type": "markdown",
   "metadata": {},
   "source": [
    "# PlayFair Cipher"
   ]
  },
  {
   "cell_type": "code",
   "execution_count": 1,
   "metadata": {},
   "outputs": [],
   "source": [
    "import numpy as np\n",
    "class PlayFairCipher:\n",
    "    \n",
    "    def __init(self):\n",
    "        print(\"initialized\")\n",
    "    \n",
    "    def make5by5table(self, key):\n",
    "        index =0\n",
    "        alphabet = 65\n",
    "        l = [[0]*5 for i in range(5)]\n",
    "        for i in range(len(l)):\n",
    "            for j in range(len(l[0])):\n",
    "                if index < len(key):\n",
    "                    l[i][j] = key[index]\n",
    "                    index += 1\n",
    "                else:\n",
    "                    flag = True\n",
    "                    while(flag):\n",
    "                        if chr(alphabet) not in key+\"J\":\n",
    "                            l[i][j] = chr(alphabet)\n",
    "                            alphabet += 1\n",
    "                            flag = False\n",
    "                        else:\n",
    "                            alphabet += 1\n",
    "        return l\n",
    "    \n",
    " \n",
    "    def keyPreprocessing(self, key):\n",
    "        key = key.upper()\n",
    "        unique_dicts = {}\n",
    "        for i in key:\n",
    "            if i not in unique_dicts:\n",
    "                unique_dicts[i] = 1\n",
    "\n",
    "        key =\"\".join([str(e) for e in unique_dicts.keys()])\n",
    "        return key\n",
    "    \n",
    "    \n",
    "    \n",
    "    \n",
    "    \n",
    "    \n",
    "    def plaintextPreprocessing(self, plain_text):\n",
    "        l = []\n",
    "        temp = \"\"\n",
    "        i = 0\n",
    "        plain_text = plain_text.upper().replace(\" \", \"\")\n",
    "        while i < len(plain_text):\n",
    "            if temp == \"\":\n",
    "                temp += plain_text[i]\n",
    "            else:\n",
    "                if plain_text[i] == temp:\n",
    "                    temp += \"X\"\n",
    "                    l.append(temp)\n",
    "                    temp = \"\"\n",
    "                    temp += plain_text[i]\n",
    "                else:\n",
    "                    temp += plain_text[i]\n",
    "                    l.append(temp)\n",
    "                    temp = \"\" \n",
    "            i += 1\n",
    "        return l   \n",
    "    def encrypt_playCipher(self, plain_text, key):\n",
    "        final_list = []\n",
    "        key = self.keyPreprocessing(key)\n",
    "        plain_text = self.plaintextPreprocessing(plain_text)\n",
    "        table = self.make5by5table(key)\n",
    "        table = np.array(table)\n",
    "        for plain in plain_text:\n",
    "            i_start=j_start=i_end=j_end = 0\n",
    "            for i in range(len(table)):\n",
    "                for j in range(len(table[0])):\n",
    "                    if table[i][j] == plain[0]:\n",
    "                        i_start, j_start = i , j\n",
    "                    elif table[i][j] == plain[1]:\n",
    "                        i_end, j_end = i , j\n",
    "            if i_start != i_end and j_start != j_end:\n",
    "                final_list.append(table[i_start % 5,j_end % 5] + table[i_end % 5,j_start % 5])\n",
    "            elif i_start == i_end:\n",
    "                final_list.append(table[i_start % 5, (j_start + 1) % 5] + table[i_end % 5, (j_end + 1) % 5])\n",
    "            elif j_start == j_end:\n",
    "                final_list.append(table[(i_start +1) % 5, j_start % 5] + table[(i_end + 1) % 5, j_end % 5])\n",
    "                \n",
    "        final_ans = ''.join([str(e) for e in final_list])\n",
    "        return final_ans\n",
    "    \n",
    "    def decrypt_playCipher(self, cipher_text, key):\n",
    "        final_list = []\n",
    "        key = self.keyPreprocessing(key)\n",
    "        cipher_text = self.plaintextPreprocessing(cipher_text)\n",
    "        table = self.make5by5table(key)\n",
    "        table = np.array(table)\n",
    "        for plain in cipher_text:\n",
    "            i_start=j_start=i_end=j_end = 0\n",
    "            for i in range(len(table)):\n",
    "                for j in range(len(table[0])):\n",
    "                    if table[i][j] == plain[0]:\n",
    "                        i_start, j_start = i , j\n",
    "                    elif table[i][j] == plain[1]:\n",
    "                        i_end, j_end = i , j\n",
    "            if i_start != i_end and j_start != j_end:\n",
    "                final_list.append(table[i_start % 5,j_end % 5] + table[i_end % 5,j_start % 5])\n",
    "            elif i_start == i_end:\n",
    "                final_list.append(table[i_start % 5, (j_start - 1) % 5] + table[i_end % 5, (j_end - 1) % 5])\n",
    "            elif j_start == j_end:\n",
    "                final_list.append(table[(i_start - 1) % 5, j_start % 5] + table[(i_end - 1) % 5, j_end % 5])\n",
    "                \n",
    "        final_ans = ''.join([str(e) for e in final_list])\n",
    "        return final_ans\n",
    "        "
   ]
  },
  {
   "cell_type": "markdown",
   "metadata": {},
   "source": [
    "# Task 2: Encrypt the plain text \"Palyfair  Cipher is completely different way to encrypt the message\",  where key is \"Success\"."
   ]
  },
  {
   "cell_type": "code",
   "execution_count": 2,
   "metadata": {
    "scrolled": true
   },
   "outputs": [
    {
     "name": "stdout",
     "output_type": "stream",
     "text": [
      "Text After encryption of a plain text given in a question would become: \n",
      "\n",
      "QKEZHCMOSLTDGYOBSQKRMCRAMXBKLCGCYGTZZUZRRSLAYEQOZNGRAUUSMG\n"
     ]
    }
   ],
   "source": [
    "play = PlayFairCipher()\n",
    "plain_text= \"Playfair Cipher is completely different way to encrypt the message\"\n",
    "cipher_text = play.encrypt_playCipher(plain_text, \"success\")\n",
    "\n",
    "print(\"Text After encryption of a plain text given in a question would become: \\n\")\n",
    "print(cipher_text)"
   ]
  },
  {
   "cell_type": "code",
   "execution_count": 3,
   "metadata": {},
   "outputs": [
    {
     "name": "stdout",
     "output_type": "stream",
     "text": [
      "Text after decryption of cipher text which we encrypted before would become: \n",
      "\n",
      "PLAYFAIRCIPHERISCOMPLETELYDIFXFERENTWAYTOENCRYPTTHEMESSAGE\n"
     ]
    }
   ],
   "source": [
    "plain_text = play.decrypt_playCipher(cipher_text, \"success\")\n",
    "\n",
    "print(\"Text after decryption of cipher text which we encrypted before would become: \\n\")\n",
    "print(plain_text)"
   ]
  },
  {
   "cell_type": "markdown",
   "metadata": {},
   "source": [
    "#                                          ----------END----------"
   ]
  }
 ],
 "metadata": {
  "kernelspec": {
   "display_name": "Python 3",
   "language": "python",
   "name": "python3"
  },
  "language_info": {
   "codemirror_mode": {
    "name": "ipython",
    "version": 3
   },
   "file_extension": ".py",
   "mimetype": "text/x-python",
   "name": "python",
   "nbconvert_exporter": "python",
   "pygments_lexer": "ipython3",
   "version": "3.8.8"
  }
 },
 "nbformat": 4,
 "nbformat_minor": 2
}
