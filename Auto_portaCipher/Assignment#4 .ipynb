{
 "cells": [
  {
   "cell_type": "markdown",
   "metadata": {},
   "source": [
    "## Name: Muhammad Rafiq\n",
    "## Seat No: B17101061\n",
    "## Course: Network Security & Cryptography (NS'21 Lab)\n",
    "## Assignment : Assignment # 4\n",
    "## Section: A                       \n"
   ]
  },
  {
   "cell_type": "markdown",
   "metadata": {},
   "source": [
    "# Modulus Algorithm"
   ]
  },
  {
   "cell_type": "code",
   "execution_count": 43,
   "metadata": {},
   "outputs": [],
   "source": [
    "def modulo(a, m)->int:\n",
    "    R = abs(a) % m \n",
    "    if a>= 0:\n",
    "        R =R\n",
    "    elif a < 0 and R != 0:\n",
    "        R = m - R\n",
    "    elif a < 0 and R == 0:\n",
    "        R = 0\n",
    "    return R"
   ]
  },
  {
   "cell_type": "markdown",
   "metadata": {},
   "source": [
    "# AUTOKEY CIPHER"
   ]
  },
  {
   "cell_type": "markdown",
   "metadata": {},
   "source": [
    "### 1- Decrypt the text \"dlcjm hw tusklmj tuwgn me vygczwttrnwr hnrt xuaklalmf vyi cgqhelbkhk dq xem lwgyxt. Key=\"Key size\" using Autokey Cipher"
   ]
  },
  {
   "cell_type": "code",
   "execution_count": 44,
   "metadata": {},
   "outputs": [
    {
     "name": "stdout",
     "output_type": "stream",
     "text": [
      "Text after decrypting thorugh Autokey cipher would be:\n",
      " \n",
      "THEREISANOTHERTHINGINCRYPTOGRAPHYTHATINCREASESTHECOMPLEXITYOFTHESYSTEM\n"
     ]
    }
   ],
   "source": [
    "\n",
    "def auto_key_decrypt(message, key):\n",
    "    message = message.replace(\" \", \"\").upper()\n",
    "    key = key.replace(\" \", \"\").upper()\n",
    "    i =0\n",
    "    dec_string = \"\"\n",
    "    for character in message:\n",
    "        '''print(ord(character)-65 , \"\\t\" ,key[i] ,\"\\t\",ord(key[i])-65,\"\\t\",ord(character) - 65 - (ord(key[i])-65),\"\\t\" , \n",
    "              modulo((ord(character) - 65 - (ord(key[i])-65)), 26), \"\\t\",  \n",
    "              chr(modulo((ord(character) - 65 - (ord(key[i])-65)), 26)+65))'''\n",
    "        dec_character = modulo((ord(character) - 65 - (ord(key[i])-65)), 26)\n",
    "        i += 1\n",
    "        dec_string += chr(dec_character + 65)\n",
    "        key += chr(dec_character + 65)\n",
    "    return dec_string\n",
    "                               \n",
    "                               \n",
    "    \n",
    "def main():\n",
    "    message = \"dlcjm hw tusklmj tuwgn me vygczwttrnwr hnrt xuaklalmf vyi cgqhelbkhk dq xem lwgyxt\"\n",
    "    key_new = \"Key size\"\n",
    "    cipher_text = auto_key_decrypt(message, key_new)\n",
    "    print(cipher_text)\n",
    "\n",
    "\n",
    "if __name__ == '__main__':\n",
    "    print(\"Text after decrypting thorugh Autokey cipher would be:\\n \")\n",
    "    main()"
   ]
  },
  {
   "cell_type": "markdown",
   "metadata": {},
   "source": [
    "# PORTA CIPHER"
   ]
  },
  {
   "cell_type": "markdown",
   "metadata": {},
   "source": [
    "### 2- Decrypt the text \"goiindugafybxjqofbnuynxjwhrcbinzolnsnjpjvgysety\", Key=\"Bonus Marks\", using porta cipher."
   ]
  },
  {
   "cell_type": "code",
   "execution_count": 47,
   "metadata": {},
   "outputs": [
    {
     "name": "stdout",
     "output_type": "stream",
     "text": [
      "Plain Text Would be: \n",
      "\n",
      "THOSEWHOSOLVETHISWILLGETANEXTRAFIVEMARKSINFINAL\n"
     ]
    }
   ],
   "source": [
    " \n",
    "alphabet = {\n",
    "    \"A\": (\"ABCDEFGHIJKLMNOPQRSTUVWXYZ\", \"NOPQRSTUVWXYZABCDEFGHIJKLM\"),\n",
    "    \"B\": (\"ABCDEFGHIJKLMNOPQRSTUVWXYZ\", \"NOPQRSTUVWXYZABCDEFGHIJKLM\"),\n",
    "    \"C\": (\"ABCDEFGHIJKLMNOPQRSTUVWXYZ\", \"OPQRSTUVWXYZNMABCDEFGHIJKL\"),\n",
    "    \"D\": (\"ABCDEFGHIJKLMNOPQRSTUVWXYZ\", \"OPQRSTUVWXYZNMABCDEFGHIJKL\"),\n",
    "    \"E\": (\"ABCDEFGHIJKLMNOPQRSTUVWXYZ\", \"PQRSTUVWXYZNMLMABCDEFGHIJK\"),\n",
    "    \"F\": (\"ABCDEFGHIJKLMNOPQRSTUVWXYZ\", \"PQRSTUVWXYZNMLMABCDEFGHIJK\"),\n",
    "    \"G\": (\"ABCDEFGHIJKLMNOPQRSTUVWXYZ\", \"QRSTUVWXYZNOPKLMABCDEFGHIJ\"),\n",
    "    \"H\": (\"ABCDEFGHIJKLMNOPQRSTUVWXYZ\", \"QRSTUVWXYZNOPKLMABCDEFGHIJ\"),\n",
    "    \"I\": (\"ABCDEFGHIJKLMNOPQRSTUVWXYZ\", \"RSTUVWXYZNOPQJKLMABCDEFGHI\"),\n",
    "    \"J\": (\"ABCDEFGHIJKLMNOPQRSTUVWXYZ\", \"RSTUVWXYZNOPQJKLMABCDEFGHI\"),\n",
    "    \"K\": (\"ABCDEFGHIJKLMNOPQRSTUVWXYZ\", \"STUVWXYZNOPQRIJKLMABCDEFGH\"),\n",
    "    \"L\": (\"ABCDEFGHIJKLMNOPQRSTUVWXYZ\", \"STUVWXYZNOPQRIJKLMABCDEFGH\"),\n",
    "    \"M\": (\"ABCDEFGHIJKLMNOPQRSTUVWXYZ\", \"TUVWXYZNOPQRSHIJKLMABCDEFG\"),\n",
    "    \"N\": (\"ABCDEFGHIJKLMNOPQRSTUVWXYZ\", \"TUVWXYZNOPQRSHIJKLMABCDEFG\"),\n",
    "    \"O\": (\"ABCDEFGHIJKLMNOPQRSTUVWXYZ\", \"UVWXYZNOPQRSTGHIJKLMABCDEF\"),\n",
    "    \"P\": (\"ABCDEFGHIJKLMNOPQRSTUVWXYZ\", \"UVWXYZNOPQRSTGHIJKLMABCDEF\"),\n",
    "    \"Q\": (\"ABCDEFGHIJKLMNOPQRSTUVWXYZ\", \"VWXYZNOPQRSTUFGHIJKLMABCDE\"),\n",
    "    \"R\": (\"ABCDEFGHIJKLMNOPQRSTUVWXYZ\", \"VWXYZNOPQRSTUFGHIJKLMABCDE\"),\n",
    "    \"S\": (\"ABCDEFGHIJKLMNOPQRSTUVWXYZ\", \"WXYZNOPQRSTUVEFGHIJKLMABCD\"),\n",
    "    \"T\": (\"ABCDEFGHIJKLMNOPQRSTUVWXYZ\", \"WXYZNOPQRSTUVEFGHIJKLMABCD\"),\n",
    "    \"U\": (\"ABCDEFGHIJKLMNOPQRSTUVWXYZ\", \"XYZNOPQRSTUVWDEFGHIJKLMABC\"),\n",
    "    \"V\": (\"ABCDEFGHIJKLMNOPQRSTUVWXYZ\", \"XYZNOPQRSTUVWDEFGHIJKLMABC\"),\n",
    "    \"W\": (\"ABCDEFGHIJKLMNOPQRSTUVWXYZ\", \"YZNOPQRSTUVWXCDEFGHIJKLMAB\"),\n",
    "    \"X\": (\"ABCDEFGHIJKLMNOPQRSTUVWXYZ\", \"YZNOPQRSTUVWXCDEFGHIJKLMAB\"),\n",
    "    \"Y\": (\"ABCDEFGHIJKLMNOPQRSTUVWXYZ\", \"ZNOPQRSTUVWXYBCDEFGHIJKLMA\"),\n",
    "    \"Z\": (\"ABCDEFGHIJKLMNOPQRSTUVWXYZ\", \"ZNOPQRSTUVWXYBCDEFGHIJKLMA\"),\n",
    "}\n",
    "    \n",
    "def convert(cipher_text, key):\n",
    "    '''\n",
    "    It can encrypt and decrypt in both ways\n",
    "    '''\n",
    "    cipher_text = cipher_text.replace(\" \", \"\").upper()\n",
    "    key = key.replace(\" \",\"\").upper()\n",
    "    string = \"\"\n",
    "    i = 0\n",
    "    for i in range(len(cipher_text)):\n",
    "        string += alphabet[key[i % len(key)]][1][ord(cipher_text[i])-65]\n",
    "    return string\n",
    "\n",
    "print(\"Plain Text Would be: \\n\")\n",
    "print(convert(\"goiindugafybxjqofbnuynxjwhrcbinzolnsnjpjvgysety\",\"Bonus Marks\"))"
   ]
  }
 ],
 "metadata": {
  "kernelspec": {
   "display_name": "Python 3",
   "language": "python",
   "name": "python3"
  },
  "language_info": {
   "codemirror_mode": {
    "name": "ipython",
    "version": 3
   },
   "file_extension": ".py",
   "mimetype": "text/x-python",
   "name": "python",
   "nbconvert_exporter": "python",
   "pygments_lexer": "ipython3",
   "version": "3.7.3"
  }
 },
 "nbformat": 4,
 "nbformat_minor": 2
}
