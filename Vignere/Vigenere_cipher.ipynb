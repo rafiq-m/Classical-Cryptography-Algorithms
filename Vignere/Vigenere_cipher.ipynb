{
 "cells": [
  {
   "cell_type": "markdown",
   "metadata": {},
   "source": [
    "# Name: Muhammad Rafiq\n",
    "# Seat No: B17101061\n",
    "# Course: Network Security & Cryptography (NS'21 Lab)\n",
    "# Assignment : Assignment # 3 ( Vigenere Cipher)\n",
    "# Section: A                       \n"
   ]
  },
  {
   "cell_type": "markdown",
   "metadata": {},
   "source": [
    "# Modulus Algorithm"
   ]
  },
  {
   "cell_type": "code",
   "execution_count": 21,
   "metadata": {},
   "outputs": [],
   "source": [
    "def modulo(a, m)->int:\n",
    "    R = abs(a) % m \n",
    "    if a>= 0:\n",
    "        R =R\n",
    "    elif a < 0 and R != 0:\n",
    "        R = m - R\n",
    "    elif a < 0 and R == 0:\n",
    "        R = 0\n",
    "    return R"
   ]
  },
  {
   "cell_type": "markdown",
   "metadata": {},
   "source": [
    "# 1- Task 1: Write a program for Vigenère Cipher that can encrypt and decrypt it. Using your preferable working platform."
   ]
  },
  {
   "cell_type": "markdown",
   "metadata": {},
   "source": [
    "# Vigenere Cipher"
   ]
  },
  {
   "cell_type": "code",
   "execution_count": 22,
   "metadata": {},
   "outputs": [],
   "source": [
    "''' A = 0 ... Z = 25'''\n",
    "\n",
    "def vigenere_encrypt(my_string,K,m) -> str:\n",
    "    enc_string = \"\"\n",
    "    my_string = my_string.upper()\n",
    "    for i in range(len(my_string)):\n",
    "        enc_string += chr(modulo((ord(my_string[i])-65 + ord(K[i % len(K)])-65), m) + 65)\n",
    "    return enc_string\n",
    "\n",
    "def vigenere_decrypt(my_string,K,m)->str:\n",
    "    dec_string = \"\"\n",
    "    for i in range(len(my_string)):\n",
    "        dec_string += chr(modulo((ord(my_string[i]) - 65 - ord(K[i % len(K)])-65), m) + 65)\n",
    "    return dec_string\n",
    "\n",
    "def vigenere_cipher(choice):        \n",
    "    if choice == 'e':\n",
    "        my_input = input(\"Enter the text to be encrypted: \")\n",
    "        K = input(\"Enter the key: \")\n",
    "        enc_string = vigenere_encrypt(my_input.replace(\" \", \"\").upper(),K.upper(),26)   \n",
    "        print(\"Encrypted String is: \" + enc_string)\n",
    "    elif choice == 'd':\n",
    "        enc_string = input(\"Enter the text to be decrypted: \")\n",
    "        K = input(\"Enter the key: \")\n",
    "        my_string = vigenere_decrypt(enc_string.replace(\" \", \"\").upper(), K.upper(),26)\n",
    "        print(\"Original String after decryption is: \" + my_string)\n",
    "      \n",
    "    else:\n",
    "        my_input = input(\"Enter the text to be encrypted: \")\n",
    "        K = input(\"Enter the key: \")\n",
    "        enc_string = vigenere_encrypt(my_input.replace(\" \", \"\").upper(),K.upper(),26)\n",
    "        print(\"Encrypted String is: \" + enc_string)\n",
    "        my_string = vigenere_decrypt(enc_string, K % 26,26)\n",
    "        print(\"Original String after decryption is: \" + my_string)\n"
   ]
  },
  {
   "cell_type": "markdown",
   "metadata": {},
   "source": [
    "## Task 2: Decode the cipher text \"OZELNVUXTGWHVUBJLVTYDKURVDVFKPNA\" using your program and find the hidden text."
   ]
  },
  {
   "cell_type": "code",
   "execution_count": 23,
   "metadata": {},
   "outputs": [
    {
     "name": "stdout",
     "output_type": "stream",
     "text": [
      "Enter the text to be decrypted: OZELNVUXTGWHVUBJLVTYDKURVDVFKPNA\n",
      "Enter the key: tryhard\n",
      "Original String after decryption is: VIGENERECIPHERISNOTHARDTODECRYPT\n"
     ]
    }
   ],
   "source": [
    "vigenere_cipher('d') # d for decrypt"
   ]
  },
  {
   "cell_type": "markdown",
   "metadata": {},
   "source": [
    "## Task 3: Decode the cipher text \"XCECKVJSLKOUHTXIIYEXBOGRTIEEBXJIG\" using key \"Practice\". without using your program"
   ]
  },
  {
   "cell_type": "code",
   "execution_count": 24,
   "metadata": {},
   "outputs": [
    {
     "name": "stdout",
     "output_type": "stream",
     "text": [
      "Enter the text to be decrypted: XCECKVJSLKOUHTXIIYEXBOGRTIEEBXJIG\n",
      "Enter the key: Practice\n",
      "Original String after decryption is: ILEARNHOWTOSOLVETHEVIGENERECIPHER\n"
     ]
    }
   ],
   "source": [
    "vigenere_cipher('d') # d for decrypt"
   ]
  }
 ],
 "metadata": {
  "kernelspec": {
   "display_name": "Python 3",
   "language": "python",
   "name": "python3"
  },
  "language_info": {
   "codemirror_mode": {
    "name": "ipython",
    "version": 3
   },
   "file_extension": ".py",
   "mimetype": "text/x-python",
   "name": "python",
   "nbconvert_exporter": "python",
   "pygments_lexer": "ipython3",
   "version": "3.7.3"
  }
 },
 "nbformat": 4,
 "nbformat_minor": 2
}
