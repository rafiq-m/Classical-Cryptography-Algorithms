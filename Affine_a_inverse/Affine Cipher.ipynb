{
 "cells": [
  {
   "cell_type": "markdown",
   "metadata": {},
   "source": [
    "# Name: Muhammad Rafiq\n",
    "# Seat No: B17101061\n",
    "# Course: Network Security & Cryptography Lab\n",
    "# Assignment Number: Assignment 2 (Affine Cipher)\n",
    "# Section: A"
   ]
  },
  {
   "cell_type": "markdown",
   "metadata": {},
   "source": [
    "# Modulo Algorithm"
   ]
  },
  {
   "cell_type": "code",
   "execution_count": 2,
   "metadata": {},
   "outputs": [],
   "source": [
    "def modulo(a, m)->int:\n",
    "    R = abs(a) % m \n",
    "    if a>= 0:\n",
    "        R =R\n",
    "    elif a < 0 and R != 0:\n",
    "        R = m - R\n",
    "    elif a < 0 and R == 0:\n",
    "        R = 0\n",
    "    return R"
   ]
  },
  {
   "cell_type": "markdown",
   "metadata": {},
   "source": [
    "# Affine Cipher\n",
    "\n",
    "## 1- Encryption of Affine Cipher\n",
    "## 2- Decryption of Affine Cipher\n",
    "## 3- Finding key of Affine Cipher\n",
    "## 4- Breaking of Affine Cipher"
   ]
  },
  {
   "cell_type": "code",
   "execution_count": 22,
   "metadata": {},
   "outputs": [
    {
     "name": "stdout",
     "output_type": "stream",
     "text": [
      "Encryption of text \"PAKISTAN\" with key (15,8) is : ZICYSHIV\n",
      "Decryption of text \"ZICYSHIV\" is : PAKISTAN\n",
      "\n",
      "\n",
      "\n",
      "\n",
      "Breaking Cipher text: \"UVOHCBN NDU OYRU WGND IXXGVU OGBDUH NUODVGEQU\" \n",
      "My Best Guess: \n",
      "ENCRYPTTHECODEWITHAFFINECIPHERTECHNIQUE\n",
      "\n",
      "\n",
      "Question No: 02;\n",
      "DECODINGAFFINECIPHERSCHEMEISSEAMTOBEDIFFICULTBUTEASY\n",
      "\n",
      "\n",
      "a \t a_inverse\n",
      "--\t--\n",
      "1 \t 1\n",
      "3 \t 9\n",
      "5 \t 21\n",
      "7 \t 15\n",
      "9 \t 3\n",
      "11 \t 19\n",
      "15 \t 7\n",
      "17 \t 23\n",
      "19 \t 11\n",
      "21 \t 5\n",
      "23 \t 17\n",
      "25 \t 25\n"
     ]
    }
   ],
   "source": [
    "def affine_encrypt(plain_text, key):\n",
    "    plain_text = plain_text.replace(\" \", \"\").upper()\n",
    "    enc_string = \"\"\n",
    "    for character in plain_text:\n",
    "        enc_string += chr(modulo(key[0] * (ord(character)-65) + key[1], 26) + 65)\n",
    "    print(enc_string)\n",
    "    return enc_string\n",
    "    \n",
    "def find_a_inverse(a):\n",
    "    a_list = [1,3,5,7,9,11,15,17,19,21,23,25]\n",
    "    for i in a_list:\n",
    "        if modulo((i*a), 26) == 1:\n",
    "            return i\n",
    "\n",
    "def affine_decrypt(cipher_text, key):\n",
    "    cipher_text = cipher_text.replace(\" \", \"\").upper()\n",
    "    a_inverse = find_a_inverse(key[0])\n",
    "    dec_string = \"\"\n",
    "    for character in cipher_text:\n",
    "        dec_string += chr(modulo(a_inverse * ((ord(character) -65) - key[1]),26) + 65)\n",
    "    print(dec_string)\n",
    "\n",
    "def find_key_affine(cipher_text, my_guess):\n",
    "    cipher_text = cipher_text.replace(\" \", \"\").upper()\n",
    "    a_list = [1,3,5,7,9,11,15,17,19,21,23,25]\n",
    "    dec_list = []\n",
    "    for a in a_list:\n",
    "        a_inverse = find_a_inverse(a)\n",
    "        for b in range(26):\n",
    "            dec_string = \"\"\n",
    "            i = 0\n",
    "            for character in cipher_text:\n",
    "                dec_string += chr(modulo(a_inverse * ((ord(character) -65) - b),26) + 65)\n",
    "                if dec_string in my_guess:\n",
    "                    return (a ,b)\n",
    "            i += 1\n",
    "    return dec_list\n",
    "            \n",
    "print(\"Encryption of text \\\"PAKISTAN\\\" with key (15,8) is : \", end = \"\")\n",
    "dec_string = affine_encrypt(\"pakistan\", (15,8))\n",
    "print(\"Decryption of text \\\"ZICYSHIV\\\" is : \", end = \"\")\n",
    "affine_decrypt(dec_string,(15,8))\n",
    "print(\"\\n\\n\\n\")\n",
    "print(\"Breaking Cipher text: \\\"UVOHCBN NDU OYRU WGND IXXGVU OGBDUH NUODVGEQU\\\" \")\n",
    "key = find_key_affine(\"NDU\",[\"THE\",\"ARE\"])\n",
    "print(\"My Best Guess: \")\n",
    "affine_decrypt(\"UVOHCBN NDU OYRU WGND IXXGVU OGBDUH NUODVGEQU\", key)\n",
    "print()\n",
    "print()\n",
    "print(\"Question No: 02;\")\n",
    "key = (19,10)\n",
    "affine_decrypt(\"piwqpgxu kbbgxi wgjniv owniei go oike hq di pgbbgwalh dah ikoy\",key)\n",
    "print()\n",
    "print()\n",
    "\n",
    "print(\"a \\t a_inverse\")\n",
    "print(\"--\\t--\")\n",
    "a_list = [1,3,5,7,9,11,15,17,19,21,23,25]\n",
    "for i in a_list:\n",
    "    print(i ,\"\\t\", find_a_inverse(i))"
   ]
  }
 ],
 "metadata": {
  "kernelspec": {
   "display_name": "Python 3",
   "language": "python",
   "name": "python3"
  },
  "language_info": {
   "codemirror_mode": {
    "name": "ipython",
    "version": 3
   },
   "file_extension": ".py",
   "mimetype": "text/x-python",
   "name": "python",
   "nbconvert_exporter": "python",
   "pygments_lexer": "ipython3",
   "version": "3.7.3"
  }
 },
 "nbformat": 4,
 "nbformat_minor": 2
}
